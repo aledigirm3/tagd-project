{
 "cells": [
  {
   "cell_type": "markdown",
   "metadata": {},
   "source": [
    "### Installazione delle dipendenze\n",
    "\n",
    "Richiede Python3.10 o superiore. Dovresti creare un virtual environment con il comando:\n",
    "```bash\n",
    "python -m venv .venv\n",
    "```\n",
    "\n",
    "Dopodichè puoi eseguire la cella successiva dentro al virtual environment."
   ]
  },
  {
   "cell_type": "code",
   "execution_count": 55,
   "metadata": {},
   "outputs": [
    {
     "name": "stdout",
     "output_type": "stream",
     "text": [
      "Python 3.10.4\n",
      "Requirement already satisfied: pandas in c:\\users\\tonto\\onedrive\\desktop\\magistrale\\bd2\\projects\\cap\\.venv\\lib\\site-packages (from -r requirements.txt (line 1)) (2.2.2)\n",
      "Requirement already satisfied: numpy in c:\\users\\tonto\\onedrive\\desktop\\magistrale\\bd2\\projects\\cap\\.venv\\lib\\site-packages (from -r requirements.txt (line 2)) (2.0.0)\n",
      "Requirement already satisfied: matplotlib in c:\\users\\tonto\\onedrive\\desktop\\magistrale\\bd2\\projects\\cap\\.venv\\lib\\site-packages (from -r requirements.txt (line 3)) (3.9.1)\n",
      "Requirement already satisfied: seaborn in c:\\users\\tonto\\onedrive\\desktop\\magistrale\\bd2\\projects\\cap\\.venv\\lib\\site-packages (from -r requirements.txt (line 4)) (0.13.2)\n",
      "Requirement already satisfied: python-dateutil>=2.8.2 in c:\\users\\tonto\\onedrive\\desktop\\magistrale\\bd2\\projects\\cap\\.venv\\lib\\site-packages (from pandas->-r requirements.txt (line 1)) (2.9.0.post0)\n",
      "Requirement already satisfied: tzdata>=2022.7 in c:\\users\\tonto\\onedrive\\desktop\\magistrale\\bd2\\projects\\cap\\.venv\\lib\\site-packages (from pandas->-r requirements.txt (line 1)) (2024.1)\n",
      "Requirement already satisfied: pytz>=2020.1 in c:\\users\\tonto\\onedrive\\desktop\\magistrale\\bd2\\projects\\cap\\.venv\\lib\\site-packages (from pandas->-r requirements.txt (line 1)) (2024.1)\n",
      "Requirement already satisfied: kiwisolver>=1.3.1 in c:\\users\\tonto\\onedrive\\desktop\\magistrale\\bd2\\projects\\cap\\.venv\\lib\\site-packages (from matplotlib->-r requirements.txt (line 3)) (1.4.5)\n",
      "Requirement already satisfied: pillow>=8 in c:\\users\\tonto\\onedrive\\desktop\\magistrale\\bd2\\projects\\cap\\.venv\\lib\\site-packages (from matplotlib->-r requirements.txt (line 3)) (10.4.0)\n",
      "Requirement already satisfied: contourpy>=1.0.1 in c:\\users\\tonto\\onedrive\\desktop\\magistrale\\bd2\\projects\\cap\\.venv\\lib\\site-packages (from matplotlib->-r requirements.txt (line 3)) (1.2.1)\n",
      "Requirement already satisfied: cycler>=0.10 in c:\\users\\tonto\\onedrive\\desktop\\magistrale\\bd2\\projects\\cap\\.venv\\lib\\site-packages (from matplotlib->-r requirements.txt (line 3)) (0.12.1)\n",
      "Requirement already satisfied: pyparsing>=2.3.1 in c:\\users\\tonto\\onedrive\\desktop\\magistrale\\bd2\\projects\\cap\\.venv\\lib\\site-packages (from matplotlib->-r requirements.txt (line 3)) (3.1.2)\n",
      "Requirement already satisfied: fonttools>=4.22.0 in c:\\users\\tonto\\onedrive\\desktop\\magistrale\\bd2\\projects\\cap\\.venv\\lib\\site-packages (from matplotlib->-r requirements.txt (line 3)) (4.53.1)\n",
      "Requirement already satisfied: packaging>=20.0 in c:\\users\\tonto\\onedrive\\desktop\\magistrale\\bd2\\projects\\cap\\.venv\\lib\\site-packages (from matplotlib->-r requirements.txt (line 3)) (24.1)\n",
      "Requirement already satisfied: six>=1.5 in c:\\users\\tonto\\onedrive\\desktop\\magistrale\\bd2\\projects\\cap\\.venv\\lib\\site-packages (from python-dateutil>=2.8.2->pandas->-r requirements.txt (line 1)) (1.16.0)\n"
     ]
    },
    {
     "name": "stderr",
     "output_type": "stream",
     "text": [
      "WARNING: You are using pip version 22.0.4; however, version 24.1.2 is available.\n",
      "You should consider upgrading via the 'C:\\Users\\tonto\\OneDrive\\Desktop\\magistrale\\bd2\\projects\\cap\\.venv\\Scripts\\python.exe -m pip install --upgrade pip' command.\n"
     ]
    }
   ],
   "source": [
    "!python --version\n",
    "!pip install -r requirements.txt"
   ]
  },
  {
   "cell_type": "code",
   "execution_count": 56,
   "metadata": {},
   "outputs": [],
   "source": [
    "import pandas as pd\n",
    "import numpy as np"
   ]
  },
  {
   "cell_type": "markdown",
   "metadata": {},
   "source": [
    "### Definizione costanti"
   ]
  },
  {
   "cell_type": "code",
   "execution_count": 76,
   "metadata": {},
   "outputs": [],
   "source": [
    "DATA_PATH = \"pg_stat_statements_16_20_60s.csv\"\n",
    "CALLS = [30, 29]"
   ]
  },
  {
   "cell_type": "markdown",
   "metadata": {},
   "source": [
    "### Importazione statistiche da file CSV"
   ]
  },
  {
   "cell_type": "code",
   "execution_count": 77,
   "metadata": {},
   "outputs": [
    {
     "data": {
      "text/html": [
       "<div>\n",
       "<style scoped>\n",
       "    .dataframe tbody tr th:only-of-type {\n",
       "        vertical-align: middle;\n",
       "    }\n",
       "\n",
       "    .dataframe tbody tr th {\n",
       "        vertical-align: top;\n",
       "    }\n",
       "\n",
       "    .dataframe thead th {\n",
       "        text-align: right;\n",
       "    }\n",
       "</style>\n",
       "<table border=\"1\" class=\"dataframe\">\n",
       "  <thead>\n",
       "    <tr style=\"text-align: right;\">\n",
       "      <th></th>\n",
       "      <th>userid</th>\n",
       "      <th>dbid</th>\n",
       "      <th>toplevel</th>\n",
       "      <th>queryid</th>\n",
       "      <th>query</th>\n",
       "      <th>plans</th>\n",
       "      <th>total_plan_time</th>\n",
       "      <th>min_plan_time</th>\n",
       "      <th>max_plan_time</th>\n",
       "      <th>mean_plan_time</th>\n",
       "      <th>...</th>\n",
       "      <th>wal_fpi</th>\n",
       "      <th>wal_bytes</th>\n",
       "      <th>jit_functions</th>\n",
       "      <th>jit_generation_time</th>\n",
       "      <th>jit_inlining_count</th>\n",
       "      <th>jit_inlining_time</th>\n",
       "      <th>jit_optimization_count</th>\n",
       "      <th>jit_optimization_time</th>\n",
       "      <th>jit_emission_count</th>\n",
       "      <th>jit_emission_time</th>\n",
       "    </tr>\n",
       "  </thead>\n",
       "  <tbody>\n",
       "    <tr>\n",
       "      <th>0</th>\n",
       "      <td>10</td>\n",
       "      <td>16419</td>\n",
       "      <td>True</td>\n",
       "      <td>-3825640688184167069</td>\n",
       "      <td>SELECT * FROM pg_stat_database</td>\n",
       "      <td>0</td>\n",
       "      <td>0</td>\n",
       "      <td>0</td>\n",
       "      <td>0</td>\n",
       "      <td>0</td>\n",
       "      <td>...</td>\n",
       "      <td>0</td>\n",
       "      <td>0</td>\n",
       "      <td>0</td>\n",
       "      <td>0</td>\n",
       "      <td>0</td>\n",
       "      <td>0</td>\n",
       "      <td>0</td>\n",
       "      <td>0</td>\n",
       "      <td>0</td>\n",
       "      <td>0</td>\n",
       "    </tr>\n",
       "    <tr>\n",
       "      <th>1</th>\n",
       "      <td>10</td>\n",
       "      <td>16419</td>\n",
       "      <td>True</td>\n",
       "      <td>1345865735253463468</td>\n",
       "      <td>SELECT * FROM pg_stat_user_tables</td>\n",
       "      <td>0</td>\n",
       "      <td>0</td>\n",
       "      <td>0</td>\n",
       "      <td>0</td>\n",
       "      <td>0</td>\n",
       "      <td>...</td>\n",
       "      <td>0</td>\n",
       "      <td>0</td>\n",
       "      <td>0</td>\n",
       "      <td>0</td>\n",
       "      <td>0</td>\n",
       "      <td>0</td>\n",
       "      <td>0</td>\n",
       "      <td>0</td>\n",
       "      <td>0</td>\n",
       "      <td>0</td>\n",
       "    </tr>\n",
       "    <tr>\n",
       "      <th>2</th>\n",
       "      <td>10</td>\n",
       "      <td>16419</td>\n",
       "      <td>True</td>\n",
       "      <td>3545412574037053608</td>\n",
       "      <td>SET DateStyle=ISO</td>\n",
       "      <td>0</td>\n",
       "      <td>0</td>\n",
       "      <td>0</td>\n",
       "      <td>0</td>\n",
       "      <td>0</td>\n",
       "      <td>...</td>\n",
       "      <td>0</td>\n",
       "      <td>0</td>\n",
       "      <td>0</td>\n",
       "      <td>0</td>\n",
       "      <td>0</td>\n",
       "      <td>0</td>\n",
       "      <td>0</td>\n",
       "      <td>0</td>\n",
       "      <td>0</td>\n",
       "      <td>0</td>\n",
       "    </tr>\n",
       "    <tr>\n",
       "      <th>3</th>\n",
       "      <td>10</td>\n",
       "      <td>16419</td>\n",
       "      <td>True</td>\n",
       "      <td>-6911109443227572258</td>\n",
       "      <td>SELECT * FROM pg_stat_bgwriter</td>\n",
       "      <td>0</td>\n",
       "      <td>0</td>\n",
       "      <td>0</td>\n",
       "      <td>0</td>\n",
       "      <td>0</td>\n",
       "      <td>...</td>\n",
       "      <td>0</td>\n",
       "      <td>0</td>\n",
       "      <td>0</td>\n",
       "      <td>0</td>\n",
       "      <td>0</td>\n",
       "      <td>0</td>\n",
       "      <td>0</td>\n",
       "      <td>0</td>\n",
       "      <td>0</td>\n",
       "      <td>0</td>\n",
       "    </tr>\n",
       "    <tr>\n",
       "      <th>4</th>\n",
       "      <td>10</td>\n",
       "      <td>16419</td>\n",
       "      <td>True</td>\n",
       "      <td>-141619989335985508</td>\n",
       "      <td>SELECT * FROM pg_stat_archiver</td>\n",
       "      <td>0</td>\n",
       "      <td>0</td>\n",
       "      <td>0</td>\n",
       "      <td>0</td>\n",
       "      <td>0</td>\n",
       "      <td>...</td>\n",
       "      <td>0</td>\n",
       "      <td>0</td>\n",
       "      <td>0</td>\n",
       "      <td>0</td>\n",
       "      <td>0</td>\n",
       "      <td>0</td>\n",
       "      <td>0</td>\n",
       "      <td>0</td>\n",
       "      <td>0</td>\n",
       "      <td>0</td>\n",
       "    </tr>\n",
       "  </tbody>\n",
       "</table>\n",
       "<p>5 rows × 43 columns</p>\n",
       "</div>"
      ],
      "text/plain": [
       "   userid   dbid  toplevel              queryid  \\\n",
       "0      10  16419      True -3825640688184167069   \n",
       "1      10  16419      True  1345865735253463468   \n",
       "2      10  16419      True  3545412574037053608   \n",
       "3      10  16419      True -6911109443227572258   \n",
       "4      10  16419      True  -141619989335985508   \n",
       "\n",
       "                               query  plans  total_plan_time  min_plan_time  \\\n",
       "0     SELECT * FROM pg_stat_database      0                0              0   \n",
       "1  SELECT * FROM pg_stat_user_tables      0                0              0   \n",
       "2                  SET DateStyle=ISO      0                0              0   \n",
       "3     SELECT * FROM pg_stat_bgwriter      0                0              0   \n",
       "4     SELECT * FROM pg_stat_archiver      0                0              0   \n",
       "\n",
       "   max_plan_time  mean_plan_time  ...  wal_fpi  wal_bytes  jit_functions  \\\n",
       "0              0               0  ...        0          0              0   \n",
       "1              0               0  ...        0          0              0   \n",
       "2              0               0  ...        0          0              0   \n",
       "3              0               0  ...        0          0              0   \n",
       "4              0               0  ...        0          0              0   \n",
       "\n",
       "   jit_generation_time  jit_inlining_count  jit_inlining_time  \\\n",
       "0                    0                   0                  0   \n",
       "1                    0                   0                  0   \n",
       "2                    0                   0                  0   \n",
       "3                    0                   0                  0   \n",
       "4                    0                   0                  0   \n",
       "\n",
       "   jit_optimization_count  jit_optimization_time  jit_emission_count  \\\n",
       "0                       0                      0                   0   \n",
       "1                       0                      0                   0   \n",
       "2                       0                      0                   0   \n",
       "3                       0                      0                   0   \n",
       "4                       0                      0                   0   \n",
       "\n",
       "   jit_emission_time  \n",
       "0                  0  \n",
       "1                  0  \n",
       "2                  0  \n",
       "3                  0  \n",
       "4                  0  \n",
       "\n",
       "[5 rows x 43 columns]"
      ]
     },
     "execution_count": 77,
     "metadata": {},
     "output_type": "execute_result"
    }
   ],
   "source": [
    "df = pd.read_csv(DATA_PATH)\n",
    "df.head()"
   ]
  },
  {
   "cell_type": "code",
   "execution_count": 61,
   "metadata": {},
   "outputs": [
    {
     "data": {
      "text/plain": [
       "Index(['userid', 'dbid', 'toplevel', 'queryid', 'query', 'plans',\n",
       "       'total_plan_time', 'min_plan_time', 'max_plan_time', 'mean_plan_time',\n",
       "       'stddev_plan_time', 'calls', 'total_exec_time', 'min_exec_time',\n",
       "       'max_exec_time', 'mean_exec_time', 'stddev_exec_time', 'rows',\n",
       "       'shared_blks_hit', 'shared_blks_read', 'shared_blks_dirtied',\n",
       "       'shared_blks_written', 'local_blks_hit', 'local_blks_read',\n",
       "       'local_blks_dirtied', 'local_blks_written', 'temp_blks_read',\n",
       "       'temp_blks_written', 'blk_read_time', 'blk_write_time',\n",
       "       'temp_blk_read_time', 'temp_blk_write_time', 'wal_records', 'wal_fpi',\n",
       "       'wal_bytes', 'jit_functions', 'jit_generation_time',\n",
       "       'jit_inlining_count', 'jit_inlining_time', 'jit_optimization_count',\n",
       "       'jit_optimization_time', 'jit_emission_count', 'jit_emission_time'],\n",
       "      dtype='object')"
      ]
     },
     "execution_count": 61,
     "metadata": {},
     "output_type": "execute_result"
    }
   ],
   "source": [
    "df.columns"
   ]
  },
  {
   "cell_type": "markdown",
   "metadata": {},
   "source": [
    "### Eliminazione delle colonne che non ci servono"
   ]
  },
  {
   "cell_type": "code",
   "execution_count": 78,
   "metadata": {},
   "outputs": [],
   "source": [
    "columns = [\"query\", \"calls\", \"total_exec_time\", \"min_exec_time\", \"max_exec_time\", \"mean_exec_time\", \"stddev_exec_time\", \"blk_read_time\", \"blk_write_time\"]\n",
    "df = df[columns]\n",
    "df = df[df[\"calls\"].isin(CALLS)]"
   ]
  },
  {
   "cell_type": "markdown",
   "metadata": {},
   "source": [
    "### Calcolo delle variabili operazionali\n",
    "\n",
    "Aggiustiamo il tempo di risposta rimuovendo i valori massimo e minimo, considerandoli outliers.\n",
    "\n",
    "Calcoliamo il service demand di CPU e disco.\n",
    "\n",
    "Infine convertiamo tutto in secondi."
   ]
  },
  {
   "cell_type": "code",
   "execution_count": 79,
   "metadata": {},
   "outputs": [],
   "source": [
    "df[\"blk_read_time\"] /= 1000\n",
    "df[\"blk_write_time\"] /= 1000\n",
    "df[\"total_exec_time\"] /= 1000\n",
    "df[\"min_exec_time\"] /= 1000\n",
    "df[\"max_exec_time\"] /= 1000\n",
    "df[\"mean_exec_time\"] /= 1000\n",
    "\n",
    "df[\"mean_blk_read_time\"] = df[\"blk_read_time\"] / df[\"calls\"]\n",
    "df[\"mean_blk_write_time\"] = df[\"blk_write_time\"] / df[\"calls\"]\n",
    "df[\"adj_mean_exec_time\"] = (df[\"total_exec_time\"] - df[\"min_exec_time\"] - df[\"max_exec_time\"]) / (df[\"calls\"] - 2)\n",
    "df[\"D_CPU\"] = df[\"adj_mean_exec_time\"] - df[\"mean_blk_read_time\"] - df[\"mean_blk_write_time\"]\n",
    "df[\"D_DISK\"] = df[\"mean_blk_read_time\"] + df[\"mean_blk_write_time\"]\n",
    "df[\"CPU_vs_DISK\"] = df[\"D_CPU\"] / df[\"D_DISK\"]"
   ]
  },
  {
   "cell_type": "code",
   "execution_count": 80,
   "metadata": {},
   "outputs": [
    {
     "data": {
      "text/html": [
       "<div>\n",
       "<style scoped>\n",
       "    .dataframe tbody tr th:only-of-type {\n",
       "        vertical-align: middle;\n",
       "    }\n",
       "\n",
       "    .dataframe tbody tr th {\n",
       "        vertical-align: top;\n",
       "    }\n",
       "\n",
       "    .dataframe thead th {\n",
       "        text-align: right;\n",
       "    }\n",
       "</style>\n",
       "<table border=\"1\" class=\"dataframe\">\n",
       "  <thead>\n",
       "    <tr style=\"text-align: right;\">\n",
       "      <th></th>\n",
       "      <th>query</th>\n",
       "      <th>calls</th>\n",
       "      <th>total_exec_time</th>\n",
       "      <th>min_exec_time</th>\n",
       "      <th>max_exec_time</th>\n",
       "      <th>mean_exec_time</th>\n",
       "      <th>stddev_exec_time</th>\n",
       "      <th>blk_read_time</th>\n",
       "      <th>blk_write_time</th>\n",
       "      <th>mean_blk_read_time</th>\n",
       "      <th>mean_blk_write_time</th>\n",
       "      <th>adj_mean_exec_time</th>\n",
       "      <th>D_CPU</th>\n",
       "      <th>D_DISK</th>\n",
       "      <th>CPU_vs_DISK</th>\n",
       "    </tr>\n",
       "  </thead>\n",
       "  <tbody>\n",
       "    <tr>\n",
       "      <th>6</th>\n",
       "      <td>SELECT\\n   p_brand,\\n   p_type,\\n   p_size,\\n ...</td>\n",
       "      <td>30</td>\n",
       "      <td>26.965064</td>\n",
       "      <td>0.862054</td>\n",
       "      <td>1.401235</td>\n",
       "      <td>0.898835</td>\n",
       "      <td>94.622963</td>\n",
       "      <td>0.430790</td>\n",
       "      <td>0.0</td>\n",
       "      <td>0.014360</td>\n",
       "      <td>0.0</td>\n",
       "      <td>0.882206</td>\n",
       "      <td>0.867847</td>\n",
       "      <td>0.014360</td>\n",
       "      <td>60.436471</td>\n",
       "    </tr>\n",
       "    <tr>\n",
       "      <th>22</th>\n",
       "      <td>select s_name, s_address from supplier, nation...</td>\n",
       "      <td>29</td>\n",
       "      <td>35.798148</td>\n",
       "      <td>0.999820</td>\n",
       "      <td>2.774756</td>\n",
       "      <td>1.234419</td>\n",
       "      <td>317.583333</td>\n",
       "      <td>23.278985</td>\n",
       "      <td>0.0</td>\n",
       "      <td>0.802724</td>\n",
       "      <td>0.0</td>\n",
       "      <td>1.186058</td>\n",
       "      <td>0.383335</td>\n",
       "      <td>0.802724</td>\n",
       "      <td>0.477542</td>\n",
       "    </tr>\n",
       "  </tbody>\n",
       "</table>\n",
       "</div>"
      ],
      "text/plain": [
       "                                                query  calls  total_exec_time  \\\n",
       "6   SELECT\\n   p_brand,\\n   p_type,\\n   p_size,\\n ...     30        26.965064   \n",
       "22  select s_name, s_address from supplier, nation...     29        35.798148   \n",
       "\n",
       "    min_exec_time  max_exec_time  mean_exec_time  stddev_exec_time  \\\n",
       "6        0.862054       1.401235        0.898835         94.622963   \n",
       "22       0.999820       2.774756        1.234419        317.583333   \n",
       "\n",
       "    blk_read_time  blk_write_time  mean_blk_read_time  mean_blk_write_time  \\\n",
       "6        0.430790             0.0            0.014360                  0.0   \n",
       "22      23.278985             0.0            0.802724                  0.0   \n",
       "\n",
       "    adj_mean_exec_time     D_CPU    D_DISK  CPU_vs_DISK  \n",
       "6             0.882206  0.867847  0.014360    60.436471  \n",
       "22            1.186058  0.383335  0.802724     0.477542  "
      ]
     },
     "execution_count": 80,
     "metadata": {},
     "output_type": "execute_result"
    }
   ],
   "source": [
    "df"
   ]
  },
  {
   "cell_type": "markdown",
   "metadata": {},
   "source": [
    "### Query CPU-Intensive"
   ]
  },
  {
   "cell_type": "code",
   "execution_count": 86,
   "metadata": {},
   "outputs": [
    {
     "name": "stdout",
     "output_type": "stream",
     "text": [
      "query                  SELECT\\n   p_brand,\\n   p_type,\\n   p_size,\\n ...\n",
      "calls                                                                 30\n",
      "total_exec_time                                                26.965064\n",
      "min_exec_time                                                   0.862054\n",
      "max_exec_time                                                   1.401235\n",
      "mean_exec_time                                                  0.898835\n",
      "stddev_exec_time                                               94.622963\n",
      "blk_read_time                                                    0.43079\n",
      "blk_write_time                                                       0.0\n",
      "mean_blk_read_time                                               0.01436\n",
      "mean_blk_write_time                                                  0.0\n",
      "adj_mean_exec_time                                              0.882206\n",
      "D_CPU                                                           0.867847\n",
      "D_DISK                                                           0.01436\n",
      "CPU_vs_DISK                                                    60.436471\n",
      "Name: 6, dtype: object\n",
      "\n",
      "SELECT\n",
      "   p_brand,\n",
      "   p_type,\n",
      "   p_size,\n",
      "   COUNT(DISTINCT ps_suppkey) AS supplier_cnt\n",
      "FROM\n",
      "   partsupp,\n",
      "   part\n",
      "WHERE\n",
      "   p_partkey = ps_partkey\n",
      "   AND p_brand <> $1\n",
      "   AND p_type NOT LIKE $2\n",
      "   AND p_size IN ($3, $4, $5, $6, $7, $8, $9, $10)\n",
      "   AND ps_suppkey NOT IN\n",
      "   (\n",
      "      SELECT\n",
      "         s_suppkey\n",
      "      FROM\n",
      "         supplier\n",
      "      WHERE\n",
      "         s_comment LIKE $11\n",
      "   )\n",
      "GROUP BY\n",
      "   p_brand,\n",
      "   p_type,\n",
      "   p_size\n",
      "ORDER BY\n",
      "   supplier_cnt DESC,\n",
      "   p_brand,\n",
      "   p_type,\n",
      "   p_size\n"
     ]
    }
   ],
   "source": [
    "q_cpu = df.loc[df[\"CPU_vs_DISK\"].idxmax()]\n",
    "print(q_cpu)\n",
    "print()\n",
    "print(q_cpu[\"query\"])"
   ]
  },
  {
   "cell_type": "markdown",
   "metadata": {},
   "source": [
    "### Query Disk-Intensive"
   ]
  },
  {
   "cell_type": "code",
   "execution_count": 85,
   "metadata": {},
   "outputs": [
    {
     "name": "stdout",
     "output_type": "stream",
     "text": [
      "query                  select s_name, s_address from supplier, nation...\n",
      "calls                                                                 29\n",
      "total_exec_time                                                35.798148\n",
      "min_exec_time                                                    0.99982\n",
      "max_exec_time                                                   2.774756\n",
      "mean_exec_time                                                  1.234419\n",
      "stddev_exec_time                                              317.583333\n",
      "blk_read_time                                                  23.278985\n",
      "blk_write_time                                                       0.0\n",
      "mean_blk_read_time                                              0.802724\n",
      "mean_blk_write_time                                                  0.0\n",
      "adj_mean_exec_time                                              1.186058\n",
      "D_CPU                                                           0.383335\n",
      "D_DISK                                                          0.802724\n",
      "CPU_vs_DISK                                                     0.477542\n",
      "Name: 22, dtype: object\n",
      "\n",
      "select s_name, s_address from supplier, nation where s_suppkey in ( select ps_suppkey from partsupp where ps_partkey in ( select p_partkey from part where p_name like $1 ) and ps_availqty > ( select $5 * sum(l_quantity) from lineitem where l_partkey = ps_partkey and l_suppkey = ps_suppkey and l_shipdate >= $2::date and l_shipdate < $3::date + interval $6 year ) ) and s_nationkey = n_nationkey and n_name = $4 order by s_name\n"
     ]
    }
   ],
   "source": [
    "q_disk = df.loc[df[\"CPU_vs_DISK\"].idxmin()]\n",
    "print(q_disk)\n",
    "print()\n",
    "print(q_disk[\"query\"])"
   ]
  }
 ],
 "metadata": {
  "kernelspec": {
   "display_name": "Python 3",
   "language": "python",
   "name": "python3"
  },
  "language_info": {
   "codemirror_mode": {
    "name": "ipython",
    "version": 3
   },
   "file_extension": ".py",
   "mimetype": "text/x-python",
   "name": "python",
   "nbconvert_exporter": "python",
   "pygments_lexer": "ipython3",
   "version": "3.10.4"
  }
 },
 "nbformat": 4,
 "nbformat_minor": 2
}
